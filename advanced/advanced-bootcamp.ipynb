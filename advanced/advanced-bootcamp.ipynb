{
 "cells": [
  {
   "cell_type": "markdown",
   "metadata": {},
   "source": [
    "# Advanced Python Bootcamp\n",
    "\n",
    "\n",
    "## Review\n",
    "\n",
    "\n",
    "### Classes\n",
    "#### Attributes\n",
    "#### Methods\n",
    "\n",
    "\n",
    "### Cash register example"
   ]
  },
  {
   "cell_type": "code",
   "execution_count": null,
   "metadata": {
    "collapsed": true
   },
   "outputs": [],
   "source": [
    "class Register:\n",
    "    salad_price = 3.50\n",
    "    hotdogprice = 2.50\n",
    "    def __init__(self, balance, npurchases=0, nsalads=0, nhotdogs=0):\n",
    "        self.balance =  balance\n",
    "        self.npurchases = npurchases\n",
    "        self.nsalads=nsalads\n",
    "        self.nhotdogs= nhotdogs\n",
    "    def makesale(self, itemnum,num=1):\n",
    "        items = {0:[self.nsalads,salad_price],1:[self.nhotdogs, hotdogprice]}\n",
    "        self.npurchases +=1\n",
    "        if type(itemnum) != list:\n",
    "            self.balance += num*items[itemnum][1]\n",
    "            items[itemnum]+= num\n",
    "        else:\n",
    "            self.balance += num[0]*items[itemnum[0]][1]\n",
    "            self.balance += num[1]*items[itemnum[1]][1]\n",
    "            items[itemnum[0]]+=num[0]\n",
    "            items[itemnum[1]]+=num[1]\n",
    "    def refund(self, amt):\n",
    "        sellf.balance -=amt"
   ]
  },
  {
   "cell_type": "markdown",
   "metadata": {},
   "source": [
    "### Exercise 1: Simulating the solar system\n",
    "\n"
   ]
  },
  {
   "cell_type": "markdown",
   "metadata": {
    "collapsed": true
   },
   "source": [
    "The gravitational force between two bodies m_1 an m_2 separated by a distance r is defined as \n",
    "$$F_{g} = G \\frac{m_1 m_2}{r^2} $$\n",
    "where G is the gravitational constant, 6.67e-11. In addition, we know from Newton's second law that\n",
    "$$F=ma$$\n",
    "and that if acceleration is constant (which we can assume it is over short time intervals), the velocity of the object is then \n",
    "$$v=at$$\n",
    "where t is our timestep and a is determined from our force equation.\n",
    "We can find our position as a function of time in this linear regime as being\n",
    "$$x=vt$$\n",
    "A nontrivial fact about the graviational force is that it obeys the law of superpostion, meaning that the total force on any object is just the sum of all of the individual forces on that object.\n",
    "\n",
    "To simulate the effects of gravity on multiple bodies, we can use classes! We want to develop a class of generalized bodies which obey gravity. We want to make a class with all of the necessary parameters. For this project, we are going to work in two dimensions, though it is quite easy to generalize to a third dimension.\n",
    "##### Classes\n",
    "1. To do this, create a body class which requires a mass, position (x and y) and velocity (x and y) as its initialization parameters. \n",
    "2. In addition to these initial parameters in your __init__ function, set up two empty arrays for x position and y position so that as the simulation progresses we can keep track of how the body moved.\n",
    "3. Create a gravity method which finds the force between the two objects. Then find a way to convert that total force into its x and y components and return those values.\n",
    "\n",
    "##### Simulating Gravity\n",
    "1. Begin by defining a simulate function which takes in a list of bodies.\n",
    "2. Define your timestep (in seconds). In my implementation I use one day but test some values out. You will also want to set a number of steps. A good number would be on the order of a hundred days so you can see some sort of larger structure to the orbits.\n",
    "3. Create a for or while loop which will loop the number of steps you want.\n",
    "4. In this while/for loop, Create two empty arrays, one for force in the x direction and one for force in the y direction.\n",
    "5. Then, inside of the loop, create another for loop which loops over the different bodies. Inside of that loop, make two variables, totalfx,totalfy, and set them equal to zero. We will be adding to these when we measure gravity.\n",
    "6. In that loop, create another for loop that loops over the different bodies. Inside of this loop, check to make sure that the two bodies are not the same body. If they are indeed different, use the gravity method to find the force between the two bodies. Add the values from the gravity function to the totalfx and totalfy variables from the previous step.\n",
    "7. Outside of that loop, append the totalfx and totalfy to the arrays defined in step 4.\n",
    "8. Now we have all of the forces on all of the bodies. In the while/for loop, create another for loop which we can use to extract the information from the force and bodies array.\n",
    "9. In this for loop, use the information from the force array and the mass of the body to determine the accelerations in the x and y directions. Then use that and the timestep to change the velocity.\n",
    "10. With the new velocity, adjust the new x and y positions and these values to our empty position arrays that we defined in the body method.\n",
    "11. Now we’re done with all of actual computation! Now we simply need to show our results. Use another for loop (outside of the while/for loop) to plot the position arrays we set up before. \n"
   ]
  },
  {
   "cell_type": "code",
   "execution_count": null,
   "metadata": {
    "collapsed": true
   },
   "outputs": [],
   "source": [
    "import numpy as np\n",
    "import matplotlib.pyplot as plt\n",
    "\n",
    "AU=(149.6e6 *1000)\n",
    "scale=250/AU\n",
    "G = 6.67428e-11\n",
    "\n",
    "class body: \n",
    "    def __init__(x,x,x,x,x=0,x=0):\n",
    "        #write your code here and change the arguments above\n",
    "    def gravity(self,other):\n",
    "        #write your code here\n",
    "        \n",
    "def simulate(bodies):\n",
    "    #write your simulation code here!\n",
    "def runstuff()"
   ]
  },
  {
   "cell_type": "markdown",
   "metadata": {},
   "source": [
    "## Parallel Computing\n",
    "Paralell compuing is a type of computing that allows many calculations to be carried out simultaneously. Large computational tasks are broken down into smaller subtasks and are carried out on different cores.\n",
    "Parallel computing is useful in creating large simulations with high resolution and many parts. It is also useful in carrying out lots of simple calculations like those performed in data analysis.\n"
   ]
  },
  {
   "cell_type": "code",
   "execution_count": 1,
   "metadata": {
    "collapsed": false
   },
   "outputs": [
    {
     "name": "stdout",
     "output_type": "stream",
     "text": [
      "mean a:  1.00001359423 mean b:  -2.00009629602 mean c:  4.49996568322\n"
     ]
    }
   ],
   "source": [
    "\n",
    "import multiprocessing\n",
    "import os\n",
    "import numpy as np\n",
    "from multiprocessing import Process\n",
    "import matplotlib.pyplot as plt\n",
    "from multiprocessing import Pool\n",
    "f= open('coefficients.txt','w')\n",
    "f.write('a'+'\\t'+'b'+'\\t'+'c'+'\\n')\n",
    "f.close()\n",
    "def quadfits(x,y):\n",
    "    \"\"\"\n",
    "    A function that fits quadratic polynomials to data\n",
    "    \"\"\"\n",
    "    f= open('coefficients.txt','a')\n",
    "    \n",
    "    a0,b0,c0 = np.polyfit(x,y,2)\n",
    "    f.write(str(a0) + '\\t'+str(b0)+'\\t'+str(c0) +'\\n')\n",
    "    f.close()\n",
    "\n",
    "    proc = os.getpid()\n",
    "    #print('Quad coefficient: {0}, Linear Coefficient {1}, Y Intercept: {2} by process id: {3}'.format(\n",
    "    #    a0,b0,c0,proc))\n",
    "    return a0,b0,c0\n",
    "### set up some fake data\n",
    "x = np.linspace(0,10,3000)\n",
    "y_arrays= np.zeros( (5000,np.size(x)))\n",
    "\n",
    "for i in range(500):\n",
    "    np.random.seed(i)\n",
    "    y_arrays[i,:] = x**2-2*x+4  + np.random.rand(3000)\n",
    "#plt.plot(x,y_arrays[i,:])\n",
    "#plt.show()\n",
    "procs = []\n",
    "   \n",
    "for i in range(500):\n",
    "    y = y_arrays[i,:]\n",
    "    proc = Process(target=quadfits, args=(x,y))\n",
    "    procs.append(proc)\n",
    "    proc.start()\n",
    "for proc in procs:\n",
    "    proc.join()\n",
    "a,b,c = np.transpose(np.loadtxt('coefficients.txt',skiprows=1, delimiter='\\t'))\n",
    "print('mean a: ', np.mean(a), 'mean b: ', np.mean(b), 'mean c: ', np.mean(c) )"
   ]
  },
  {
   "cell_type": "code",
   "execution_count": 3,
   "metadata": {
    "collapsed": false
   },
   "outputs": [
    {
     "name": "stdout",
     "output_type": "stream",
     "text": [
      "Requirement already satisfied: emcee in /home/chris/anaconda3/lib/python3.5/site-packages\r\n",
      "Requirement already satisfied: numpy in /home/chris/anaconda3/lib/python3.5/site-packages (from emcee)\r\n"
     ]
    }
   ],
   "source": []
  },
  {
   "cell_type": "code",
   "execution_count": null,
   "metadata": {
    "collapsed": true
   },
   "outputs": [],
   "source": []
  },
  {
   "cell_type": "markdown",
   "metadata": {},
   "source": [
    "## Monte Carlo Methods\n",
    "Monte Carlo methods are a class of computational techniques useful in understnding the behviors of complex systems that are not easily analytically determined. Given \n",
    "\n"
   ]
  },
  {
   "cell_type": "markdown",
   "metadata": {},
   "source": [
    "#### Exercise: Use Monte Carlo to estimate Pi"
   ]
  },
  {
   "cell_type": "markdown",
   "metadata": {},
   "source": [
    "### Markov Chain Monte Carlo\n",
    "According to wikipedia, Markov Chain Monte Carlo methods are a class of algorithms for sampling from a probability distribution based on constructing a Markov Chain.\n",
    "We can use these to fit fancy curves with lots of complex structure  that might depend on a large number of parameters."
   ]
  },
  {
   "cell_type": "markdown",
   "metadata": {},
   "source": [
    "#### Exercise: Fit a quadratic polynomial to some data using python package emcee"
   ]
  },
  {
   "cell_type": "code",
   "execution_count": 8,
   "metadata": {
    "collapsed": false
   },
   "outputs": [
    {
     "name": "stdout",
     "output_type": "stream",
     "text": [
      "Requirement already satisfied: lmfit in /home/chris/anaconda3/lib/python3.5/site-packages\n",
      "Requirement already satisfied: numpy in /home/chris/anaconda3/lib/python3.5/site-packages (from lmfit)\n",
      "Requirement already satisfied: scipy in /home/chris/anaconda3/lib/python3.5/site-packages (from lmfit)\n",
      "Requirement already satisfied: emcee in /home/chris/anaconda3/lib/python3.5/site-packages\n",
      "Requirement already satisfied: numpy in /home/chris/anaconda3/lib/python3.5/site-packages (from emcee)\n"
     ]
    }
   ],
   "source": [
    "!pip install lmfit\n",
    "!pip install emcee"
   ]
  },
  {
   "cell_type": "markdown",
   "metadata": {},
   "source": [
    "## Scraping webpages in Python"
   ]
  },
  {
   "cell_type": "code",
   "execution_count": null,
   "metadata": {
    "collapsed": true
   },
   "outputs": [],
   "source": [
    "from urllib.request import urlopen"
   ]
  },
  {
   "cell_type": "code",
   "execution_count": null,
   "metadata": {
    "collapsed": true
   },
   "outputs": [],
   "source": []
  },
  {
   "cell_type": "markdown",
   "metadata": {},
   "source": [
    "## Graphical User Interfaces"
   ]
  },
  {
   "cell_type": "code",
   "execution_count": 6,
   "metadata": {
    "collapsed": false
   },
   "outputs": [],
   "source": [
    "from tkinter import *\n",
    "import tkinter\n",
    "main = tkinter.Tk()\n",
    "main.mainloop()"
   ]
  },
  {
   "cell_type": "code",
   "execution_count": null,
   "metadata": {
    "collapsed": true
   },
   "outputs": [],
   "source": []
  },
  {
   "cell_type": "code",
   "execution_count": null,
   "metadata": {
    "collapsed": true
   },
   "outputs": [],
   "source": []
  }
 ],
 "metadata": {
  "anaconda-cloud": {},
  "kernelspec": {
   "display_name": "Python [conda root]",
   "language": "python",
   "name": "conda-root-py"
  },
  "language_info": {
   "codemirror_mode": {
    "name": "ipython",
    "version": 3
   },
   "file_extension": ".py",
   "mimetype": "text/x-python",
   "name": "python",
   "nbconvert_exporter": "python",
   "pygments_lexer": "ipython3",
   "version": "3.5.2"
  }
 },
 "nbformat": 4,
 "nbformat_minor": 1
}
