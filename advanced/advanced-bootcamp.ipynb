{
 "cells": [
  {
   "cell_type": "markdown",
   "metadata": {},
   "source": [
    "# Advanced Python Bootcamp\n",
    "\n",
    "\n",
    "## Review\n",
    "What did we learn in the first python bootcamp? If you want to go check it out in depth, it is available on my github here https://github.com/cagostino/python-bootcamp/blob/master/beginner/pybootcamp.ipynb . If not, we'll go over the basics here. We learned how to use python as a calculator and all of the mathematical symbols\n",
    "$$ +,/,*,-,//,%$$\n",
    "\n",
    "We also learned how to assign variables and about different data types. The main datatypes we used then and will use today were integers, floats, strings, lists, tuples, Booleans. We also learned about the methods and properties that come with each of these data types. We learned about array indexing, how to import libraries, and how to write our own functions. We learned how to loop and how to control the flow of the program with conditionals.\n",
    "\n",
    "\n",
    "To jog our python memory and to get the creative juices flowing, we're going to start off with an exercise on finding peaks in a neon spectrum to go over loops, conditionals, writing functions, and plotting, \n",
    "### Exercise 0\n",
    "First, import matplotlib.pyplot as plt and numpy as np.\n",
    "For this exercise, load in a file called 'neon.txt' using np.loadtxt.\n",
    "Transpose the data you just loaded in so it is the right format. Write a function which takes in two arrays, a pixel array and a signal array, and loops over the two to determine the peak locations in the spectrum (in the signal array). This function should return an array of peak positions In this for loop, create a suitable criteria for determining whether or not a peak is actually peak. Python's all function should be helpful in doing this. Include some sort of arbitrary threshold to ignore some insignificant peaks. \n",
    "Then write a function to plot the spectrum using matplotlib.pyplot. In that function, plot the vertical lines where each of the peaks occur with plt.axvline(x=peak , ls=':')  "
   ]
  },
  {
   "cell_type": "code",
   "execution_count": null,
   "metadata": {
    "collapsed": true
   },
   "outputs": [],
   "source": [
    "### write your spectrum code here!\n",
    "\n"
   ]
  },
  {
   "cell_type": "markdown",
   "metadata": {},
   "source": [
    "## Overview\n",
    "Today, we're going to have a brief overview of dictionaries then will learn more about classes and object oriented programming. Using this, we will develop a simulation of the solar system.\n",
    "We will then learn how to parallelize our code to take advantage of the ability of our computers to process multiple calculations at the same time. We will then learn about Markov methods and Markov Chain Monte Carlo (MCMC) techniques and use a model to fit Earth's ice core temperatures as a function of time. \n",
    "After that, we will look at how to scrape webpges in Python and then finally how to make graphical user interfaces.\n",
    "\n",
    "### Dictionaries\n",
    "In python, dictionaries are series of key-values pairs. They are  useful for storing values with specific key names, usually with text information These are enclosed in braces.  \n",
    "For example, if you were writing a program that turned your keyboard into a virtual piano and you wanted to have keys corresponding to different piano notes you could use a dictionary."
   ]
  },
  {
   "cell_type": "code",
   "execution_count": 1,
   "metadata": {
    "collapsed": false
   },
   "outputs": [
    {
     "name": "stdout",
     "output_type": "stream",
     "text": [
      "b4\n",
      "{'h': 'a4', 'd': 'e4', 't': 'f#', 'e': 'd#', 'u': 'a#', 'g': 'g4', 'k': 'c5', 'a': 'c4', 's': 'd4', 'f': 'f4', 'j': 'b4', 'y': 'g#', 'w': 'c#'}\n",
      "dict_keys(['h', 'd', 't', 'e', 'u', 'g', 'k', 'a', 's', 'f', 'j', 'y', 'w'])\n",
      "dict_values(['a4', 'e4', 'f#', 'd#', 'a#', 'g4', 'c5', 'c4', 'd4', 'f4', 'b4', 'g#', 'c#'])\n",
      "{'h': 'a4', 'd': 'e4', 't': 'f#', 'e': 'd#', 'u': 'a#', 'g': 'g4', 'k': 'c5', 'a': 'c4', 's': 'd4', 'v': 'none', 'f': 'f4', 'j': 'b4', 'y': 'g#', 'w': 'c#'}\n",
      "dict_keys(['h', 'd', 't', 'e', 'u', 'g', 'k', 'a', 's', 'v', 'f', 'j', 'y', 'w'])\n",
      "dict_values(['a4', 'e4', 'f#', 'd#', 'a#', 'g4', 'c5', 'c4', 'd4', 'none', 'f4', 'b4', 'g#', 'c#'])\n"
     ]
    }
   ],
   "source": [
    "#in this dictionary, the keyboard keys are the keys\n",
    "#and the piano notes are the values.\n",
    "piano_keys = {'a':'c4','s':'d4','d':'e4','f':'f4','g':'g4',\n",
    "                'h':'a4','j':'b4', 'k':'c5','w':'c#','e':'d#',\n",
    "                't':'f#','y':'g#','u':'a#'}\n",
    "b4 = piano_keys['j']\n",
    "print(b4)\n",
    "print(piano_keys)\n",
    "print(piano_keys.keys())\n",
    "print(piano_keys.values())\n",
    "# we can add new keys to the dictionary  in the below fashion:\n",
    "piano_keys['v']='none'\n",
    "\n",
    "print(piano_keys)\n",
    "print(piano_keys.keys())\n",
    "print(piano_keys.values())"
   ]
  },
  {
   "cell_type": "markdown",
   "metadata": {},
   "source": [
    "### Classes\n",
    "Python is an object oriented programming language. The different datatypes we have already encountered were different classes in python. As we could develop our own variables and functions, we too can develop our own classes. In these classes there will be attributes (class specific variables) and methods (class specific functions).\n",
    "#### Attributes\n",
    "In python there are class attributes and instance attributes available through dot notation. Class attributes will be the same for all instances of the class regardless of the parameters of the instance. Instance variables will likely be different from instance to instance and are initialized with the \\__init\\__ function.\n",
    "##### Methods\n",
    "Methods are functions available through dot notation. We used many of these when working with strings, lists, and numpy arrays like  str.upper() and list.append().\n",
    "##### Subclasses and inheritance \n",
    "Sometimes it's helpful to define a subclass to do more specific things.  For example, you might have a pet class with different subclasses for dogs, cats, hamsters etc. to have attributes more specific to each pet.\n",
    "##### Some More Resources \n",
    "Chapters 12-14 of this book\n",
    "http://www.greenteapress.com/thinkpython/thinkCSpy.pdf\n",
    "\n",
    "### Cash register example\n",
    "Here we set up a cash register to show how classes are initialized with \\__init\\__ and how to set up instance attributes, methods, and the importance of self. "
   ]
  },
  {
   "cell_type": "code",
   "execution_count": 21,
   "metadata": {
    "collapsed": false
   },
   "outputs": [
    {
     "name": "stdout",
     "output_type": "stream",
     "text": [
      "[0, 3.5]\n",
      "63.0\n",
      "7\n"
     ]
    }
   ],
   "source": [
    "salad_price = 3.50\n",
    "hotdogprice = 2.50\n",
    "class Register(object):\n",
    "    \n",
    "    def __init__(self, balance, npurchases=0, nsalads=0, nhotdogs=0):\n",
    "        self.balance =  balance\n",
    "        self.npurchases = npurchases\n",
    "        self.nsalads=nsalads\n",
    "        self.nhotdogs= nhotdogs\n",
    "        self.items = {0:[self.nsalads,salad_price],\n",
    "              1:[self.nhotdogs, hotdogprice]}\n",
    "    def makesale(self, itemnum,num=1):\n",
    "        \n",
    "        self.npurchases +=1\n",
    "        if type(itemnum) != list:\n",
    "            self.balance += num*items[itemnum][1]\n",
    "            items[itemnum][0]+= num\n",
    "            print(self.balance)\n",
    "        else:\n",
    "            if num == 1:  \n",
    "                num=[1,1]\n",
    "            self.balance += num[0]*items[itemnum[0]][1]\n",
    "            self.balance += num[1]*items[itemnum[1]][1]\n",
    "            print(items[itemnum[0]])\n",
    "            items[itemnum[0]][0]+=num[0]\n",
    "            items[itemnum[1]][0]+=num[1]\n",
    "    def refund(self, amt):\n",
    "        self.balance -=amt\n",
    "class Local_Register(Register):\n",
    "    def __init__(self, balance, store_name,npurchases=0, nsalads=0,nhotdogs):\n",
    "        Register.__init__(self, balance, npurchases, nsalads,nhotdogs)\n",
    "        self.store_name= store_name\n",
    "    def special_item(self,item_name, item_price):\n",
    "        self.items[item_name] = [0,item_price]\n",
    "    def bankruptcy(self):\n",
    "        self.balance =0\n",
    "    \n",
    "    \n",
    "#reg1 =  Automatic_Register(7)\n",
    "#reg = Register(5)\n",
    "#Register.refund(reg,10)\n",
    "reg.makesale([0,1],[2,3])\n",
    "print(reg.balance)\n",
    "print(reg1.balance)\n",
    "\n",
    "#print(dir(reg))\n",
    "#print(dir(reg1))"
   ]
  },
  {
   "cell_type": "markdown",
   "metadata": {},
   "source": [
    "### Exercise 1: Classes and Inheritance\n",
    "In this exercise, you are going to create a class for vehicles. For its  initial parameters, include the self argument as well as an average speed argument and an initial X position (in miles) which is automatically assumed to be 0 (hint: look at the Register class for how to do this!), and a direction which should be automatically assumed to be forward. To set the direction to be forwards/backwards it might be good to use 1 for forwards and -1 for backwards.\n",
    "\n",
    "Then, in the vehicle class, create a drive method which takes in some time argument in hours and then modifies the self.X position by adding the average speed multipled by the time and by the direction.\n",
    "\n",
    "Great! Now we have a vehicle class. \n",
    "Now make subclasses for Bikes, Cars, and Semis that inherit the vehicle class.\n",
    "In each one, set how many wheel each one has (2 for bike, 4 for car, and 18 for semi).\n",
    "For bikes, provide an initialization parameter to see whether they are motorized or not. \n",
    "For cars, include an initialization parameter for the number of doors. \n",
    "For Semis, add in an initial parameter for the amount of storage space.\n",
    "For each one, try to come up with a unique method to perform an action.\n",
    "Initialize an instance of each one, test your methods and check the instance attributes to make sure they are being adjusted properly by your methods."
   ]
  },
  {
   "cell_type": "code",
   "execution_count": 1,
   "metadata": {
    "collapsed": false
   },
   "outputs": [
    {
     "ename": "IndentationError",
     "evalue": "expected an indented block (<ipython-input-1-23ba4076c9f6>, line 4)",
     "output_type": "error",
     "traceback": [
      "\u001b[0;36m  File \u001b[0;32m\"<ipython-input-1-23ba4076c9f6>\"\u001b[0;36m, line \u001b[0;32m4\u001b[0m\n\u001b[0;31m    class Bike(Vehicle):\u001b[0m\n\u001b[0m        ^\u001b[0m\n\u001b[0;31mIndentationError\u001b[0m\u001b[0;31m:\u001b[0m expected an indented block\n"
     ]
    }
   ],
   "source": [
    "class Vehicle:\n",
    "    ### your code here\n",
    "    \n",
    "class Bike(Vehicle):\n",
    "    ### your code here\n",
    "class Car(Vehicle):\n",
    "    ### your code here    \n",
    "class Semi(Vehicle):\n",
    "    ### your code here    \n",
    "    \n",
    "#initialize some classes here    "
   ]
  },
  {
   "cell_type": "markdown",
   "metadata": {},
   "source": [
    "### Simulations\n",
    "Simulations attempt to tell us how a system changes over time or with respect to some other parameter. The quality of the simulation usually depends on the resolution of the time step. If your time step is too large, it is possible you may miss out on some important information. If it is too small, it might take too long to run. Though the underlying processes will differ in simulations, the basic idea is that you are trying to model complex system which can not be analytically solved. Perhaps the simplest example of this is the three-body problem in physics. In this next exercise, you will be taking a set of multiple masses and seeing how they move due to gravity over time. "
   ]
  },
  {
   "cell_type": "markdown",
   "metadata": {},
   "source": [
    "### Exercise 2: Simulating the solar system\n",
    "\n"
   ]
  },
  {
   "cell_type": "markdown",
   "metadata": {
    "collapsed": true
   },
   "source": [
    "The gravitational force between two bodies m_1 an m_2 separated by a distance r is defined as \n",
    "$$F_{g} = G \\frac{m_1 m_2}{r^2} $$\n",
    "where G is the gravitational constant, 6.67e-11. In addition, we know from Newton's second law that\n",
    "$$F=ma$$\n",
    "and that if acceleration is constant (which we can assume it is over short time intervals), the velocity of the object is then \n",
    "$$v=at$$\n",
    "where t is our timestep and a is determined from our force equation.\n",
    "We can find our position as a function of time in this linear regime as being\n",
    "$$x=vt$$\n",
    "A nontrivial fact about the graviational force is that it obeys the law of superpostion, meaning that the total force on any object is just the sum of all of the individual forces on that object.\n",
    "\n",
    "To simulate the effects of gravity on multiple bodies, we can use classes! We want to develop a class of generalized bodies which obey gravity. We want to make a class with all of the necessary parameters. For this project, we are going to work in two dimensions, though it is quite easy to generalize to a third dimension.\n",
    "##### Classes\n",
    "1. To do this, create a body class which requires a mass, position (x and y) and velocity (x and y) as its initialization parameters. \n",
    "2. In addition to these initial parameters in your \\__init\\__ function, set up two empty arrays for x position and y position so that as the simulation progresses we can keep track of how the body moved.\n",
    "3. Create a gravity method which finds the force between the two objects. Then find a way to convert that total force into its x and y components and return those values.\n",
    "\n",
    "##### Simulating Gravity\n",
    "1. Begin by defining a simulate function which takes in a list of bodies.\n",
    "2. Define your timestep (in seconds). In my implementation I use one day but test some values out. You will also want to set a number of steps. A good number would be on the order of a hundred days so you can see some sort of larger structure to the orbits.\n",
    "3. Create a for or while loop which will loop the number of steps you want.\n",
    "4. In this while/for loop, Create two empty arrays, one for force in the x direction and one for force in the y direction.\n",
    "5. Then, inside of the loop, create another for loop which loops over the different bodies. Inside of that loop, make two variables, totalfx,totalfy, and set them equal to zero. We will be adding to these when we measure gravity.\n",
    "6. In that loop, create another for loop that loops over the different bodies. Inside of this loop, check to make sure that the two bodies are not the same body. If they are indeed different, use the gravity method to find the force between the two bodies. Add the values from the gravity function to the totalfx and totalfy variables from the previous step.\n",
    "7. Outside of that loop, append the totalfx and totalfy to the arrays defined in step 4.\n",
    "8. Now we have all of the forces on all of the bodies. In the while/for loop, create another for loop which we can use to extract the information from the force and bodies array.\n",
    "9. In this for loop, use the information from the force array and the mass of the body to determine the accelerations in the x and y directions. Then use that and the timestep to change the velocity.\n",
    "10. With the new velocity, adjust the new x and y positions and these values to our empty position arrays that we defined in the body method.\n",
    "11. Now we’re done with all of actual computation! Now we simply need to show our results. Use another for loop (outside of the while/for loop) to plot the position arrays we set up before. \n"
   ]
  },
  {
   "cell_type": "code",
   "execution_count": 2,
   "metadata": {
    "collapsed": false
   },
   "outputs": [
    {
     "ename": "IndentationError",
     "evalue": "expected an indented block (<ipython-input-2-f0745c7751d1>, line 11)",
     "output_type": "error",
     "traceback": [
      "\u001b[0;36m  File \u001b[0;32m\"<ipython-input-2-f0745c7751d1>\"\u001b[0;36m, line \u001b[0;32m11\u001b[0m\n\u001b[0;31m    def gravity(self,other):\u001b[0m\n\u001b[0m      ^\u001b[0m\n\u001b[0;31mIndentationError\u001b[0m\u001b[0;31m:\u001b[0m expected an indented block\n"
     ]
    }
   ],
   "source": [
    "import numpy as np\n",
    "import matplotlib.pyplot as plt\n",
    "\n",
    "AU=(149.6e6 *1000)\n",
    "scale=250/AU\n",
    "G = 6.67428e-11\n",
    "\n",
    "class body: \n",
    "    def __init__(x,x,x,x,x=0,x=0):\n",
    "        #write your code here and change the arguments above\n",
    "    def gravity(self,other):\n",
    "        #write your code here\n",
    "        \n",
    "def simulate(bodies):\n",
    "    #write your simulation code here!\n",
    "def runstuff():\n",
    "    #initialize the simulation here"
   ]
  },
  {
   "cell_type": "markdown",
   "metadata": {},
   "source": [
    "## Parallel Computing\n",
    "Paralell compuing is a type of computing that allows many calculations to be carried out simultaneously. Large computational tasks are broken down into smaller subtasks and are carried out on different cores.\n",
    "Parallel computing is useful in creating large simulations with high resolution and many parts. It is also useful in carrying out lots of simple calculations like those performed in data analysis.\n"
   ]
  },
  {
   "cell_type": "code",
   "execution_count": 23,
   "metadata": {
    "collapsed": false
   },
   "outputs": [
    {
     "name": "stdout",
     "output_type": "stream",
     "text": [
      "Quad coefficient: 1.0003679220716488, Linear Coefficient -2.001131677925014, Y Intercept: 4.487862652520475 by process id: 10719\n",
      "Quad coefficient: 0.9990280522903627, Linear Coefficient -1.9924283895826194, Y Intercept: 4.494668379163138 by process id: 10718\n",
      "Quad coefficient: 0.9994561290324523, Linear Coefficient -1.9966102237576444, Y Intercept: 4.497698812821361 by process id: 10720\n",
      "Quad coefficient: 1.0005497091699773, Linear Coefficient -2.000552182762538, Y Intercept: 4.485297683656502 by process id: 10730\n",
      "Quad coefficient: 0.9998053083208804, Linear Coefficient -1.9979101698788635, Y Intercept: 4.502500551107854 by process id: 10728\n",
      "Quad coefficient: 0.9993808306454735, Linear Coefficient -1.9926170557865523, Y Intercept: 4.48796758614216 by process id: 10717\n",
      "Quad coefficient: 1.0002591086728767, Linear Coefficient -2.0062012925019896, Y Intercept: 4.518020082251357 by process id: 10729\n",
      "Quad coefficient: 0.9985120895559007, Linear Coefficient -1.9878660442447056, Y Intercept: 4.488085163507873 by process id: 10722\n",
      "Quad coefficient: 1.0002089271539711, Linear Coefficient -2.003019008447504, Y Intercept: 4.506183987843356 by process id: 10726\n",
      "Quad coefficient: 1.0002815373100162, Linear Coefficient -2.00331338018714, Y Intercept: 4.504962450069621 by process id: 10725\n",
      "Quad coefficient: 1.0009663091358407, Linear Coefficient -2.0066720259879385, Y Intercept: 4.511894141896805 by process id: 10723\n",
      "Quad coefficient: 0.9991223065480498, Linear Coefficient -1.9924764606885252, Y Intercept: 4.4837353044063315 by process id: 10727\n",
      "Quad coefficient: 1.0006354712984231, Linear Coefficient -2.006837987784084, Y Intercept: 4.517380407333119 by process id: 10721\n",
      "Quad coefficient: 0.9995230259883091, Linear Coefficient -1.994256068708006, Y Intercept: 4.490993964821997 by process id: 10733\n",
      "Quad coefficient: 1.0004688718261625, Linear Coefficient -2.006198921688924, Y Intercept: 4.507320942612282 by process id: 10747\n",
      "Quad coefficient: 1.0006610766705244, Linear Coefficient -2.0068285380037314, Y Intercept: 4.513039722217996 by process id: 10740\n",
      "Quad coefficient: 0.9991971185992136, Linear Coefficient -1.9900163525073957, Y Intercept: 4.477364135441234 by process id: 10737\n",
      "Quad coefficient: 1.0006785030920917, Linear Coefficient -2.0069521060517617, Y Intercept: 4.5052194217561485 by process id: 10724\n",
      "Quad coefficient: 1.001292215228729, Linear Coefficient -2.011714148595016, Y Intercept: 4.506107020994722 by process id: 10783\n",
      "Quad coefficient: 0.9991995237516682, Linear Coefficient -1.9904498277600151, Y Intercept: 4.473739432353486 by process id: 10750\n",
      "Quad coefficient: 0.9989586684369448, Linear Coefficient -1.9877156571627421, Y Intercept: 4.475377906249636 by process id: 10736\n",
      "Quad coefficient: 1.00179060888992, Linear Coefficient -2.0165963997814518, Y Intercept: 4.525006570196637 by process id: 10759\n",
      "Quad coefficient: 0.999865461456907, Linear Coefficient -2.002546671491973, Y Intercept: 4.51371100186862 by process id: 10791\n",
      "Quad coefficient: 1.0007976144302648, Linear Coefficient -2.0082411860175644, Y Intercept: 4.513667009356567 by process id: 10775\n",
      "Quad coefficient: 0.9988437510379599, Linear Coefficient -1.9859029913833897, Y Intercept: 4.459460735053248 by process id: 10784\n",
      "Quad coefficient: 1.0003125346372845, Linear Coefficient -2.0042224760676293, Y Intercept: 4.5106209750291075 by process id: 10807\n",
      "Quad coefficient: 1.0009075409970405, Linear Coefficient -2.0079008232537436, Y Intercept: 4.511824899515109 by process id: 10812\n",
      "Quad coefficient: 0.999436610212249, Linear Coefficient -1.994528758203297, Y Intercept: 4.496609262712948 by process id: 10793\n",
      "Quad coefficient: 0.9998942105152538, Linear Coefficient -1.9993983089050489, Y Intercept: 4.4998220444047465 by process id: 10817\n",
      "Quad coefficient: 0.999457884502796, Linear Coefficient -1.993205233148111, Y Intercept: 4.483518155623609 by process id: 10838\n",
      "Quad coefficient: 0.9986985205770005, Linear Coefficient -1.9860842618561716, Y Intercept: 4.482823960819565 by process id: 10831\n",
      "Quad coefficient: 1.0000222933987477, Linear Coefficient -1.9999359652341524, Y Intercept: 4.497009120099983 by process id: 10830\n",
      "Quad coefficient: 1.0001385449702294, Linear Coefficient -2.0023077600721164, Y Intercept: 4.505990633861749 by process id: 10843\n",
      "Quad coefficient: 1.0019606870321824, Linear Coefficient -2.0199857921005226, Y Intercept: 4.53862871012195 by process id: 10856\n",
      "Quad coefficient: 1.000263593697941, Linear Coefficient -2.0041956995591192, Y Intercept: 4.507418778194102 by process id: 10855\n",
      "Quad coefficient: 1.0005860864715919, Linear Coefficient -2.0058289858409597, Y Intercept: 4.508936442762466 by process id: 10854\n",
      "Quad coefficient: 1.0010067656843087, Linear Coefficient -2.009504329426817, Y Intercept: 4.518348551164504 by process id: 10879\n",
      "Quad coefficient: 1.0000037209982966, Linear Coefficient -1.9989534192819363, Y Intercept: 4.494536237321657 by process id: 10865\n",
      "Quad coefficient: 1.0001402166343742, Linear Coefficient -2.001094462774894, Y Intercept: 4.496212355927993 by process id: 10882\n",
      "Quad coefficient: 0.9997372167938011, Linear Coefficient -2.00079613542523, Y Intercept: 4.511401978566667 by process id: 10852\n",
      "Quad coefficient: 0.9998000401510283, Linear Coefficient -1.9966703047159682, Y Intercept: 4.486072621415768 by process id: 10860\n",
      "Quad coefficient: 1.0015162733104408, Linear Coefficient -2.016924632203116, Y Intercept: 4.534492029009381 by process id: 10848\n",
      "Quad coefficient: 0.9980700362623588, Linear Coefficient -1.9770239757333112, Y Intercept: 4.4499794835245705 by process id: 10885\n",
      "Quad coefficient: 0.9994488855455411, Linear Coefficient -1.9941737644206754, Y Intercept: 4.501741750944539 by process id: 10866\n",
      "Quad coefficient: 0.999487210402652, Linear Coefficient -1.9974546267238822, Y Intercept: 4.51336448202412 by process id: 10886\n",
      "Quad coefficient: 0.9999303761995485, Linear Coefficient -1.9994928738902886, Y Intercept: 4.4895700797793605 by process id: 10849\n",
      "Quad coefficient: 0.9990719873428764, Linear Coefficient -1.9898693264299987, Y Intercept: 4.490181341597906 by process id: 10857\n",
      "Quad coefficient: 0.9998962009506062, Linear Coefficient -1.995413251632449, Y Intercept: 4.484407689275454 by process id: 10853\n",
      "Quad coefficient: 1.0002402753395532, Linear Coefficient -2.003882934433528, Y Intercept: 4.509976429093539 by process id: 10914\n",
      "Quad coefficient: 0.9987886562007913, Linear Coefficient -1.9886485003708272, Y Intercept: 4.4857429503202635 by process id: 10897\n",
      "mean a:  0.999973330189 mean b:  -1.99965102741 mean c:  4.49912992057\n"
     ]
    }
   ],
   "source": [
    "import multiprocessing\n",
    "import os\n",
    "import numpy as np\n",
    "from multiprocessing import Process\n",
    "import matplotlib.pyplot as plt\n",
    "from multiprocessing import Pool\n",
    "f= open('coefficients.txt','w')\n",
    "f.write('a'+'\\t'+'b'+'\\t'+'c'+'\\n')\n",
    "f.close()\n",
    "def quadfits(x,y):\n",
    "    \"\"\"\n",
    "    A function that fits quadratic polynomials to data\n",
    "    \"\"\"\n",
    "    f= open('coefficients.txt','a')\n",
    "    \n",
    "    a0,b0,c0 = np.polyfit(x,y,2)\n",
    "    f.write(str(a0) + '\\t'+str(b0)+'\\t'+str(c0) +'\\n')\n",
    "    f.close()\n",
    "\n",
    "    proc = os.getpid()\n",
    "    print('Quad coefficient: {0}, Linear Coefficient {1}, Y Intercept: {2} by process id: {3}'.format(\n",
    "        a0,b0,c0,proc))\n",
    "    return a0,b0,c0\n",
    "### set up some fake data\n",
    "x = np.linspace(0,10,3000)\n",
    "y_arrays= np.zeros( (5000,np.size(x)))\n",
    "\n",
    "for i in range(50):\n",
    "    np.random.seed(i)\n",
    "    y_arrays[i,:] = x**2-2*x+4  + np.random.rand(3000)\n",
    "#plt.plot(x,y_arrays[i,:])\n",
    "#plt.show()\n",
    "procs = []\n",
    "   \n",
    "for i in range(50):\n",
    "    y = y_arrays[i,:]\n",
    "    proc = Process(target=quadfits, args=(x,y))\n",
    "    procs.append(proc)\n",
    "    proc.start()\n",
    "for proc in procs:\n",
    "    proc.join()\n",
    "a,b,c = np.transpose(np.loadtxt('coefficients.txt',skiprows=1, delimiter='\\t'))\n",
    "print('mean a: ', np.mean(a), 'mean b: ', np.mean(b), 'mean c: ', np.mean(c) )"
   ]
  },
  {
   "cell_type": "markdown",
   "metadata": {},
   "source": [
    "## Monte Carlo Methods\n",
    "Monte Carlo methods are a class of computational techniques useful in understnding the behviors of complex systems that are not easily analytically determined. Given \n",
    "\n"
   ]
  },
  {
   "cell_type": "markdown",
   "metadata": {},
   "source": [
    "#### Exercise: Use Monte Carlo to estimate Pi\n",
    "In this exercise, you will use a Monte Carlo method to estimate the value of pi. If  circle of radius R is inscribed within square of side length 2R, the circle's area will thus be pi R^2. The area of the square will be its side length (2R)^2. The ratio of the area of the circle to the area of the square wil be pi/4. We can use this to estimate the value of pi. If we randomly pick points within this space, we can assume that the probability of randomly picking a point within the circle is proportional to the area of the circle. Using this, if we determine the ratio of the points inside the circle to the total number of points, we can approximate a value for pi.\n",
    "\n",
    "I've provided some skeleton code to do so below. \n",
    "\n",
    "In gif form for a quarter circle this looks like \n",
    "<img src='Pi_30K.gif'/>"
   ]
  },
  {
   "cell_type": "code",
   "execution_count": 3,
   "metadata": {
    "collapsed": false
   },
   "outputs": [
    {
     "ename": "IndentationError",
     "evalue": "expected an indented block (<ipython-input-3-ab0f8d77fe48>, line 18)",
     "output_type": "error",
     "traceback": [
      "\u001b[0;36m  File \u001b[0;32m\"<ipython-input-3-ab0f8d77fe48>\"\u001b[0;36m, line \u001b[0;32m18\u001b[0m\n\u001b[0;31m    pi = (inside_count/count)*4\u001b[0m\n\u001b[0m                               ^\u001b[0m\n\u001b[0;31mIndentationError\u001b[0m\u001b[0;31m:\u001b[0m expected an indented block\n"
     ]
    }
   ],
   "source": [
    "import random\n",
    "n = 1e6\n",
    "sidelength = 1e5\n",
    "center = [sidelength/2,sidelength/2]\n",
    "def in_circle(point):\n",
    "    '''In this function, you need to determine whether the point\n",
    "    is inside of the circle or not. It should return a boolean.'''\n",
    "    #your code here\n",
    "\n",
    "count = 0\n",
    "inside_count=0\n",
    "for i in range(int(n)):\n",
    "    #we set up some random point within the square\n",
    "    point = [random.randint(1,sidelength),random.randint(1,sidelength)]\n",
    "    if in_circle(point):\n",
    "        #your code here\n",
    "    #your code here\n",
    "pi = (inside_count/count)*4\n",
    "print(pi)"
   ]
  },
  {
   "cell_type": "markdown",
   "metadata": {},
   "source": [
    "#### Exercise: Parallelize Monte Carlo calculation of Pi\n"
   ]
  },
  {
   "cell_type": "code",
   "execution_count": null,
   "metadata": {
    "collapsed": true
   },
   "outputs": [],
   "source": []
  },
  {
   "cell_type": "markdown",
   "metadata": {},
   "source": [
    "### Markov Chain Monte Carlo\n",
    "According to wikipedia, Markov Chain Monte Carlo methods are a class of algorithms for sampling from a probability distribution based on constructing a Markov Chain.\n",
    "MCMC, as it is colloquially called, is incredibly useful for fitting with large parameter spaces which are much harder to fit with analytic methods. These parameter spaces are often highly degenerate and, as a result, will often fool many other fitting techniques into local minima and maxima rather than the global ones. With MCMC, we can effectively determine the likelihood of certain parameter combinations by sampling different regions of the parameter space. \n",
    "One example is from my own research, where I use spot models to try to replicate stellar light curves. Each spot has a size, latitude, longitude, and rotation period. We use MCMC to find the best fitting parameters for combinations of 4 or more spots. The spot map below (courtesy of my advisor Prof. Gibor Basri),  shows how the light output of a star is decreased as a result of these spots being present.\n",
    "<img src='spotmap.png'/>\n",
    "\n",
    "Here is another example of a Kepler light curve fit with a spot model that was found using MCMC.\n",
    "<img src = 'kep.png'/>\n"
   ]
  },
  {
   "cell_type": "markdown",
   "metadata": {},
   "source": [
    "#### Exercise: Fit a complex model to some data of ice core temperatures using python packages emcee and lmfit\n",
    "Inspired by a problem from my planetary science course,  we are going to look at Earth's temperatures over the eons, as inspired by a homework assignment from my Planetary Science course, shoutout to Josh Tollefson in EPS. In this exercise, I have given you the essential functions to run and utilize the MCMC tools available in emcee. It is your task to fill in other important things. First, run the block below to make sure you have the appropriate packages.  "
   ]
  },
  {
   "cell_type": "code",
   "execution_count": 25,
   "metadata": {
    "collapsed": false
   },
   "outputs": [
    {
     "name": "stdout",
     "output_type": "stream",
     "text": [
      "Requirement already satisfied: lmfit in /home/chris/anaconda3/lib/python3.5/site-packages\n",
      "Requirement already satisfied: numpy in /home/chris/anaconda3/lib/python3.5/site-packages (from lmfit)\n",
      "Requirement already satisfied: scipy in /home/chris/anaconda3/lib/python3.5/site-packages (from lmfit)\n",
      "Requirement already satisfied: emcee in /home/chris/anaconda3/lib/python3.5/site-packages\n",
      "Requirement already satisfied: numpy in /home/chris/anaconda3/lib/python3.5/site-packages (from emcee)\n"
     ]
    }
   ],
   "source": [
    "!pip install lmfit\n",
    "!pip install emcee"
   ]
  },
  {
   "cell_type": "markdown",
   "metadata": {},
   "source": [
    "Next we have to load in the data. The data is in a file called 'ice_core_data.txt' and the two important quantities are in the second and fourth columns of the data."
   ]
  },
  {
   "cell_type": "code",
   "execution_count": 4,
   "metadata": {
    "collapsed": false
   },
   "outputs": [
    {
     "data": {
      "image/png": "[encoded data removed]",
      "text/plain": [
       "<matplotlib.figure.Figure at 0x7fda052e8860>"
      ]
     },
     "metadata": {},
     "output_type": "display_data"
    }
   ],
   "source": [
    "\n",
    "import numpy as np\n",
    "import matplotlib.pyplot as plt\n",
    "plt.rc('font', family='serif')\n",
    "plt.rc('text', usetex=True)\n",
    "from datetime import datetime\n",
    "ice_core = np.transpose(np.loadtxt('ice_core_data.txt'))\n",
    "age = ice_core[2] #index this and the one below with the right columns\n",
    "temp = ice_core[4]\n",
    "plt.plot(age, temp)\n",
    "plt.xlabel('Age [years]')\n",
    "plt.ylabel('Change in Temperature[K]')\n",
    "plt.show()\n",
    "\n"
   ]
  },
  {
   "cell_type": "markdown",
   "metadata": {},
   "source": [
    "In this exercise, we are going to model the temperature fluctuations as \n",
    "$$ \\Delta T = a_{1} sin(\\frac{2 \\pi x}{ p_{1}})+a_{2} sin(\\frac{2 \\pi x}{ p_{2}})+a_{3} sin(\\frac{2 \\pi x}{ p_{3}})+ T_{0} $$ \n",
    "\n",
    "where x would be your time. So here we have 7 free parameters that we can vary to determine a best fit for our data.\n",
    "Below, I've given you a 'deltaT' function. It should take in the 7 free \n",
    "parameters (a1,a2,a3,p1,p2,p3, T0) as well as the time. You decide the order of the arguments. The stuff below the deltaT function sets up our initial parameter guesses. There are three processes that affect the Earth's temperature on three different timescales. These occur on timescales of 26000 , 41000 and 100000 years so we use those as our initial period guesses. These initial guesses are in par0,par1, and par2. We have to also include minimum and maximum values to limit the MCMC from investigating unrealistic or unallowed values. This is what these for loops are doing and pardict contains the limits for these values. Finally we add in the initial Temperature value T0."
   ]
  },
  {
   "cell_type": "code",
   "execution_count": 16,
   "metadata": {
    "collapsed": false
   },
   "outputs": [
    {
     "ename": "NameError",
     "evalue": "name 'ps4' is not defined",
     "output_type": "error",
     "traceback": [
      "\u001b[0;31m---------------------------------------------------------------------------\u001b[0m",
      "\u001b[0;31mNameError\u001b[0m                                 Traceback (most recent call last)",
      "\u001b[0;32m<ipython-input-16-c9721ec63813>\u001b[0m in \u001b[0;36m<module>\u001b[0;34m()\u001b[0m\n\u001b[0;32m----> 1\u001b[0;31m \u001b[0mps4\u001b[0m\u001b[0;34m.\u001b[0m\u001b[0mpy\u001b[0m\u001b[0;34m\u001b[0m\u001b[0m\n\u001b[0m",
      "\u001b[0;31mNameError\u001b[0m: name 'ps4' is not defined"
     ]
    }
   ],
   "source": [
    "def deltaT(-,-,-,-,-,-,-,-):\n",
    "    '''This function calculates the value of delta T given all of \n",
    "    the parameters, where we are assuming that the periods and \n",
    "    amplitudes are associated with some real physical processes\n",
    "    that occur periodically over geological time scales.\n",
    "    '''#here you turn the above model into code and return the delta T\n",
    "\n",
    "np.random.seed(0)\n",
    "p = lmfit.Parameters()\n",
    "pardict = {0:['a',0,5],1:['p',20000,150000] }\n",
    "nthings =3\n",
    "Ndim = 2*3+1\n",
    "par0 = np.array([2.5,26000 ])\n",
    "par1 = np.array([2.5, 41000])\n",
    "par2 = np.array([2.5,100000])\n",
    "for ind, pr in enumerate(par0):\n",
    "        p.add(pardict[ind][0]+'0',pr,min = pardict[ind][1],max=pardict[ind][2])\n",
    "for ind, pr in  enumerate(par1):\n",
    "        p.add(pardict[ind][0]+'1',pr, min = pardict[ind][1],max=pardict[ind][2])\n",
    "for ind, pr in enumerate(par2):\n",
    "        p.add(pardict[ind][0]+'2',pr,min =pardict[ind][1],max=pardict[ind][2])\n",
    "p.add('T0',T0,min = -6,max=0)\n",
    "\n"
   ]
  },
  {
   "cell_type": "markdown",
   "metadata": {},
   "source": [
    "Now that we have our parameters and model function set up, we need a way to determine how far off our model is from the real data. I've gien you a residual function which converts our parameters into a more easily usable format.\n"
   ]
  },
  {
   "cell_type": "code",
   "execution_count": null,
   "metadata": {
    "collapsed": true
   },
   "outputs": [],
   "source": [
    "def residual(p):\n",
    "    '''p are the parameters. We convert these into more easily usable\n",
    "    formt with this for loop and then assign our free parameters \n",
    "    to variables. Below that, determine the model delta T and then \n",
    "    return the difference between the model and the real temperature\n",
    "    values.\n",
    "    '''\n",
    "    prs = p.valuesdict()\n",
    "    pars=[]\n",
    "    for i,j in enumerate(prs):\n",
    "        if i==Ndim:\n",
    "                continue\n",
    "        pars.append(prs[j])\n",
    "    a1,p1,a2,p2,a3,p3,tzero = pars\n",
    "    #your code here\n"
   ]
  },
  {
   "cell_type": "markdown",
   "metadata": {},
   "source": [
    "When you have the above code ready to run, you should be able to finish up by running the code below.  It should take some time to run since this will actually run the MCMC on your model. The lnprob function essentially computes the likelihood of each configuration. I added some plotting commands at the end so you can see how good of a fit you got. Then try it again with more steps in the sampler to try to get a better fit, though this will take longer.\n"
   ]
  },
  {
   "cell_type": "code",
   "execution_count": null,
   "metadata": {
    "collapsed": true
   },
   "outputs": [],
   "source": [
    "#first provide some minimum guess as determined by some other method\n",
    "mi = lmfit.minimize(residual,p, method='Nelder')\n",
    "mi.params.add('f',value=0.0005, min=0.0001,max=0.001)\n",
    "\n",
    "def lnprob(p):\n",
    "        resid = residual(p)\n",
    "        #s=p['f']\n",
    "        #resid *=1/\n",
    "        resid *= resid\n",
    "        resid += np.log(2*np.pi)#*s**2)\n",
    "        return -0.5 *np.sum(resid)\n",
    "mini = lmfit.Minimizer(lnprob,mi.params)\n",
    "\n",
    "print(datetime.now().time(),'beginning')\n",
    "###ACTUAL MCMC run\n",
    "res=mini.emcee(burn=300, steps=450, thin =10, params=mi.params)\n",
    "print(datetime.now().time(),'done')\n",
    "\n",
    "def solpars(sampler):\n",
    "        pars= []\n",
    "        for i,j in enumerate(sampler.params.valuesdict()):\n",
    "                if i ==Ndim:\n",
    "                        continue\n",
    "                val= sampler.params.valuesdict()[j]\n",
    "                pars.append(val)\n",
    "        return pars\n",
    "#extract the solution parameters\n",
    "a1,p1,a2,p2,a3,p3,Tzero = solpars(res)\n",
    "#get the delta T!\n",
    "delT = deltaT(age, a1,a2,a3,p1,p2,p3,Tzero)\n",
    "\n",
    "plt.plot(age, delT,label='Model Temperature')\n",
    "plt.plot(age,temp,label='Real Temperature')\n",
    "\n",
    "plt.ylabel('Change in Temperature [K]')\n",
    "plt.xlabel('Age [years]')\n",
    "plt.show()\n",
    "                                                 "
   ]
  },
  {
   "cell_type": "markdown",
   "metadata": {},
   "source": [
    "## Scraping webpages in Python\n",
    "With the urllib package, we can open and read HTML and similar files. With the Beautiful Soup package we can turn our HTML file into a much more readable and accessible product with information accessible through dot notation stored in methods and attributes. How exactly you use any of these depends on your goals/applications and there quite a few possibilities. You can combine these tools with selenium, a package that lets you control your webbrowser from python."
   ]
  },
  {
   "cell_type": "code",
   "execution_count": 26,
   "metadata": {
    "collapsed": false
   },
   "outputs": [
    {
     "name": "stdout",
     "output_type": "stream",
     "text": [
      "Requirement already satisfied: beautifulsoup4 in /home/chris/anaconda3/lib/python3.5/site-packages\r\n"
     ]
    }
   ],
   "source": [
    "!pip install beautifulsoup4"
   ]
  },
  {
   "cell_type": "code",
   "execution_count": 28,
   "metadata": {
    "collapsed": false,
    "scrolled": true
   },
   "outputs": [
    {
     "name": "stderr",
     "output_type": "stream",
     "text": [
      "/home/chris/anaconda3/lib/python3.5/site-packages/bs4/__init__.py:181: UserWarning: No parser was explicitly specified, so I'm using the best available HTML parser for this system (\"lxml\"). This usually isn't a problem, but if you run this code on another system, or in a different virtual environment, it may use a different parser and behave differently.\n",
      "\n",
      "The code that caused this warning is on line 184 of the file /home/chris/anaconda3/lib/python3.5/runpy.py. To get rid of this warning, change code that looks like this:\n",
      "\n",
      " BeautifulSoup([your markup])\n",
      "\n",
      "to this:\n",
      "\n",
      " BeautifulSoup([your markup], \"lxml\")\n",
      "\n",
      "  markup_type=markup_type))\n"
     ]
    },
    {
     "name": "stdout",
     "output_type": "stream",
     "text": [
      "<p>\n",
      " <b>\n",
      "  Python\n",
      " </b>\n",
      " is a widely used\n",
      " <a href=\"/wiki/High-level_programming_language\" title=\"High-level programming language\">\n",
      "  high-level programming language\n",
      " </a>\n",
      " for\n",
      " <a href=\"/wiki/General-purpose_programming_language\" title=\"General-purpose programming language\">\n",
      "  general-purpose programming\n",
      " </a>\n",
      " , created by\n",
      " <a href=\"/wiki/Guido_van_Rossum\" title=\"Guido van Rossum\">\n",
      "  Guido van Rossum\n",
      " </a>\n",
      " and first released in 1991. An\n",
      " <a href=\"/wiki/Interpreted_language\" title=\"Interpreted language\">\n",
      "  interpreted language\n",
      " </a>\n",
      " , Python has a design philosophy which emphasizes code\n",
      " <a href=\"/wiki/Readability\" title=\"Readability\">\n",
      "  readability\n",
      " </a>\n",
      " (notably using\n",
      " <a href=\"/wiki/Whitespace_character\" title=\"Whitespace character\">\n",
      "  whitespace\n",
      " </a>\n",
      " indentation to delimit\n",
      " <a class=\"mw-redirect\" href=\"/wiki/Code_block\" title=\"Code block\">\n",
      "  code blocks\n",
      " </a>\n",
      " rather than curly braces or keywords), and a syntax which allows programmers to express concepts in fewer\n",
      " <a href=\"/wiki/Source_lines_of_code\" title=\"Source lines of code\">\n",
      "  lines of code\n",
      " </a>\n",
      " than possible in languages such as\n",
      " <a href=\"/wiki/C%2B%2B\" title=\"C++\">\n",
      "  C++\n",
      " </a>\n",
      " or\n",
      " <a href=\"/wiki/Java_(programming_language)\" title=\"Java (programming language)\">\n",
      "  Java\n",
      " </a>\n",
      " .\n",
      " <sup class=\"reference\" id=\"cite_ref-Summerfield_22-0\">\n",
      "  <a href=\"#cite_note-Summerfield-22\">\n",
      "   [22]\n",
      "  </a>\n",
      " </sup>\n",
      " <sup class=\"reference\" id=\"cite_ref-23\">\n",
      "  <a href=\"#cite_note-23\">\n",
      "   [23]\n",
      "  </a>\n",
      " </sup>\n",
      " The language provides constructs intended to enable writing clear programs on both a small and large scale.\n",
      " <sup class=\"reference\" id=\"cite_ref-AutoNT-7_24-0\">\n",
      "  <a href=\"#cite_note-AutoNT-7-24\">\n",
      "   [24]\n",
      "  </a>\n",
      " </sup>\n",
      "</p>\n",
      "\n"
     ]
    }
   ],
   "source": [
    "from urllib.request import urlopen\n",
    "from bs4 import BeautifulSoup\n",
    "url = 'https://en.wikipedia.org/wiki/Python_(programming_language)'\n",
    "html =urlopen(url)\n",
    "soup = BeautifulSoup(html.read())\n",
    "print(soup.body.p.prettify())"
   ]
  },
  {
   "cell_type": "markdown",
   "metadata": {},
   "source": [
    "## Graphical User Interfaces\n",
    "Because Python is such a widely used language, there have been many graphical user interface (GUI) packages written. They often basically have the same format where you create a window and then make labels, buttons, text entry boxes, lists, and whatever else you can think of. Some look far worse than others. I think Tkinter looks the tackiest but it's the most native to python so we'll use it today. Other good ones include PyQt, Kivy, PyGame, Pyglet, PySide, WxPython and many more.\n",
    "Really you just pick one and go with it. Each one typically has its own syntax in terms of what things are called in each and how to call them but the general spirit is the same. These are generally things you probably won't need to memorize and there really isn't that much rhyme or reason to any of them. \n",
    "A GUI example is given below. None of the buttons except for the first two do anything but they could if you think of something for them to do!\n",
    "##### Some More Resources \n",
    "http://effbot.org/tkinterbook/tkinter-index.htm#introduction"
   ]
  },
  {
   "cell_type": "code",
   "execution_count": null,
   "metadata": {
    "collapsed": false
   },
   "outputs": [],
   "source": [
    "from tkinter import *\n",
    "import tkinter\n",
    "main = tkinter.Tk()\n",
    "\n",
    "def set_some_values():\n",
    "    global some_values\n",
    "    values = e1.get().split(',')\n",
    "    some_values= []\n",
    "    Label(main,text = values).grid(row=2,column=3)\n",
    "\n",
    "    for i in values:\n",
    "        if 'pi' in  i:\n",
    "            i=eval(i.replace('pi',str(np.pi)))\n",
    "            some_values.append(i)\n",
    "        else:\n",
    "            some_values.append(float(i)*np.pi/180)\n",
    "\n",
    "\n",
    "def set_other_values():\n",
    "    global other_values\n",
    "    other_values = []\n",
    "    values = e2.get().split(',')\n",
    "    Label(main,text = values).grid(row=3,column=3)\n",
    "    for i in values:\n",
    "        if 'pi' in i:\n",
    "            i=eval(i.replace('pi',str(np.pi)))\n",
    "            other_values.append(i)\n",
    "        else:\n",
    "            other_values.append(float(i)*np.pi/180)\n",
    "\n",
    "Label(main,text = 'GUI Example Program').grid(row=0,column=2)\n",
    "Label(main,text=\"Enter Some Values separated by commas\").grid(row=1,column=2)\n",
    "Label(main, text=\"Some Values \").grid(row=2,column=1)\n",
    "Label(main, text=\"Other Values\").grid(row=3,column=1)\n",
    "\n",
    "e1 = Entry(main)\n",
    "e2 = Entry(main)\n",
    "e3 = Entry(main)\n",
    "\n",
    "e1.grid(row=2, column=2)\n",
    "e2.grid(row=3, column=2)\n",
    "\n",
    "Button(main,text='Set Some Values',command = set_some_values).grid(row=4,column=2,pady=4)\n",
    "Button(main,text='Set Other Values',command = set_other_values).grid(row=5,column=2,pady=4)\n",
    "Button(main, text='Select Image 1', command=None).grid(row=6, column=1, pady=4)\n",
    "Button(main, text='Select Image 2', command=None).grid(row=6, column=2, pady=4)\n",
    "Button(main, text='Select Image 3', command=None).grid(row=6, column=3,pady =4)\n",
    "Label(main,text = 'Filenames:').grid(row=7,column=2,pady=4)\n",
    "var = StringVar(main)\n",
    "var.set(\"Option 1\")\n",
    "\n",
    "option =OptionMenu(main,var,'Option 1','Option 2', 'Option 3','Option 4','Option 5')\n",
    "option.grid(row=10,column = 2,pady=4)\n",
    "menu = option.children[\"menu\"]\n",
    "Button(main,text = 'Analyze Choice', command = None).grid(row=11,column=2,pady=4)\n",
    "Label(main,text= 'Output File Name').grid(row=12,column=1,pady=4)\n",
    "Button(main,text = 'Save Configuration', command = None).grid(row=14,column=3,pady=4)\n",
    "Button(main,text= ' Load Configuration', command = None).grid(row=14,column=1,pady=4)\n",
    "Button(main,text='Reset Everything',command = None).grid(row=14,column=2,pady=4)\n",
    "\n",
    "main.wm_title('GUI Example Program')\n",
    "\n",
    "\n",
    "\n",
    "main.mainloop()\n"
   ]
  },
  {
   "cell_type": "markdown",
   "metadata": {},
   "source": [
    "### Final Exercise: Add a GUI to your solar system program\n",
    "Create a GUI so that a user can add bodies of arbitrary massses at various positions. Add something that allows the user to select how much of a timestep to take and how many steps the simulation should take. The end result should still be a plot of the events that took place.\n",
    "Good luck!"
   ]
  },
  {
   "cell_type": "code",
   "execution_count": null,
   "metadata": {
    "collapsed": true
   },
   "outputs": [],
   "source": [
    "# your solar system simulator code here\n",
    "\n",
    "\n",
    "# your solar system simulator GUI here"
   ]
  },
  {
   "cell_type": "markdown",
   "metadata": {},
   "source": [
    "## Congratulations you have now finished the Advanced Python Bootcamp!"
   ]
  }
 ],
 "metadata": {
  "anaconda-cloud": {},
  "kernelspec": {
   "display_name": "Python [conda root]",
   "language": "python",
   "name": "conda-root-py"
  },
  "language_info": {
   "codemirror_mode": {
    "name": "ipython",
    "version": 3
   },
   "file_extension": ".py",
   "mimetype": "text/x-python",
   "name": "python",
   "nbconvert_exporter": "python",
   "pygments_lexer": "ipython3",
   "version": "3.5.2"
  }
 },
 "nbformat": 4,
 "nbformat_minor": 1
}
