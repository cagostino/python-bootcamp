{
 "cells": [
  {
   "cell_type": "markdown",
   "metadata": {},
   "source": [
    "# Advanced Python Bootcamp\n",
    "\n",
    "\n",
    "\n",
    "### Classes\n",
    "#### Attributes\n",
    "#### Methods\n",
    "\n",
    "\n",
    "### Cash register example"
   ]
  },
  {
   "cell_type": "code",
   "execution_count": null,
   "metadata": {
    "collapsed": true
   },
   "outputs": [],
   "source": [
    "class Register:\n",
    "    salad_price = 3.50\n",
    "    hotdogprice = 2.50\n",
    "    def __init(self, balance, npurchases=0, nsalads=0, nhotdogs=0):\n",
    "        self.balance =  balance\n",
    "        self.npurchases = npurchases\n",
    "        self.nsalads=nsalads\n",
    "        self.nhotdogs= nhotdogs\n",
    "    def makesale(self, itemnum,num=1):\n",
    "        items = {0:[self.nsalads,salad_price],1:[self.nhotdogs, hotdogprice]}\n",
    "        self.npurchases +=1\n",
    "        if type(itemnum) != list:\n",
    "            self.balance += num*items[itemnum][1]\n",
    "            items[itemnum]+= num\n",
    "        else:\n",
    "            self.balance += num[0]*items[itemnum[0]][1]\n",
    "            self.balance += num[1]*items[itemnum[1]][1]\n",
    "            items[itemnum[0]]+=num[0]\n",
    "            items[itemnum[1]]+=num[1]\n",
    "    def refund(self, amt):\n",
    "        sellf.balance -=amt"
   ]
  },
  {
   "cell_type": "markdown",
   "metadata": {},
   "source": [
    "### Exercise 1: Simulating the solar system\n",
    "\n"
   ]
  },
  {
   "cell_type": "code",
   "execution_count": null,
   "metadata": {
    "collapsed": true
   },
   "outputs": [],
   "source": []
  }
 ],
 "metadata": {
  "anaconda-cloud": {},
  "kernelspec": {
   "display_name": "Python [conda root]",
   "language": "python",
   "name": "conda-root-py"
  },
  "language_info": {
   "codemirror_mode": {
    "name": "ipython",
    "version": 3
   },
   "file_extension": ".py",
   "mimetype": "text/x-python",
   "name": "python",
   "nbconvert_exporter": "python",
   "pygments_lexer": "ipython3",
   "version": "3.5.2"
  }
 },
 "nbformat": 4,
 "nbformat_minor": 1
}
