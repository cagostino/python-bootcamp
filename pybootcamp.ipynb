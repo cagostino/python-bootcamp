{
 "cells": [
  {
   "cell_type": "markdown",
   "metadata": {},
   "source": [
    "# Python Bootcamp\n",
    "## CalNERDS\n",
    "\n",
    "\n",
    "<ol>\n",
    "##  Some Notes \n",
    " <ul>\n",
    "     <li> Please read carefully in between the code segments. There are some code snippets that are meant to show you how to do something but you are supposed to figure out <b>what</b> to put in place of the samples. </li>\n",
    "     <li> Please ask questions early and often. Chances are someone else has the exact same question or concern and it will only help!\n",
    " </ul>\n",
    "### Python as a Calculator\n",
    "Let's do some math! Computers are really handy because we can use them as calculators to perform many calculations on lots of data. Before we can do that we need to get the syntax down first. To run the code blocks in this notebook, press Shift+Enter!\n",
    "Below are a bunch of mathematical operations. Some are quite obvious, whereas others are not so much. Run each one and figure out what they do"
   ]
  },
  {
   "cell_type": "code",
   "execution_count": null,
   "metadata": {
    "collapsed": false
   },
   "outputs": [],
   "source": [
    "7+4"
   ]
  },
  {
   "cell_type": "code",
   "execution_count": null,
   "metadata": {
    "collapsed": false
   },
   "outputs": [],
   "source": [
    "7/4"
   ]
  },
  {
   "cell_type": "code",
   "execution_count": null,
   "metadata": {
    "collapsed": false,
    "scrolled": true
   },
   "outputs": [],
   "source": [
    "7*4"
   ]
  },
  {
   "cell_type": "code",
   "execution_count": null,
   "metadata": {
    "collapsed": true
   },
   "outputs": [],
   "source": [
    "7-4"
   ]
  },
  {
   "cell_type": "code",
   "execution_count": null,
   "metadata": {
    "collapsed": true
   },
   "outputs": [],
   "source": [
    "7//4"
   ]
  },
  {
   "cell_type": "code",
   "execution_count": null,
   "metadata": {
    "collapsed": true
   },
   "outputs": [],
   "source": [
    "7%4"
   ]
  },
  {
   "cell_type": "code",
   "execution_count": null,
   "metadata": {
    "collapsed": true
   },
   "outputs": [],
   "source": [
    "3**4"
   ]
  },
  {
   "cell_type": "code",
   "execution_count": null,
   "metadata": {
    "collapsed": false
   },
   "outputs": [],
   "source": [
    "2**(1./2)"
   ]
  },
  {
   "cell_type": "markdown",
   "metadata": {},
   "source": [
    "Now we have each of our mathematical operations and we should know what each does. +,-,\\*, and / should be obvious as addition, subtraction, multiplication, and division. The others may not be so obvious. The // is what is called integer division. In other words, it knocks off the remainder and only cares about the number of whole times that a number goes into another. The % allows us to do modular division. This returns only the remainder. The \\*\\* is different from just a \\* as it allows you to exponentiate. Taking the exponential of a fraction, above we used (1/2)=square root,  allows us to take roots of numbers."
   ]
  },
  {
   "cell_type": "markdown",
   "metadata": {},
   "source": [
    "### Variables and Data Types \n",
    "If we are doing long calculations, we do not want to have to type out the same long expressions every time. We can save these calculations as <b> variables</b>. Variables can be words with numbers but must start with a letter. We can create a variable for my age as below"
   ]
  },
  {
   "cell_type": "code",
   "execution_count": null,
   "metadata": {
    "collapsed": true
   },
   "outputs": [],
   "source": [
    "chris_age = 22"
   ]
  },
  {
   "cell_type": "code",
   "execution_count": null,
   "metadata": {
    "collapsed": true
   },
   "outputs": [],
   "source": [
    "alex_age=23"
   ]
  },
  {
   "cell_type": "code",
   "execution_count": null,
   "metadata": {
    "collapsed": false
   },
   "outputs": [],
   "source": [
    "print(alex_age-chris_age)"
   ]
  },
  {
   "cell_type": "markdown",
   "metadata": {},
   "source": [
    "This may seem much more tedious than typing 23-22 but you might not always know exactly what the input parameters are, so it is necessary to write things in terms of variables. Numbers are nice and what not but there are many different datatypes in python.\n",
    "These are:\n",
    "<ul>\n",
    "<li>Integers: whole numbers(..-3,-2,-1,0,1,2,3...)</li>\n",
    "<li>Floats: Numbers with decimals. Use more memory than integers</li>\n",
    "<li>Strings: information contained in quotes, all information that is not easily stores as numbers</li>\n",
    "<li>Lists: a series of things, not necessarily of the same data type, contained in brackets</li>\n",
    "<li>Tuples: similar to lists but contained in parentheses. Cannot be changed once constructed</li>\n",
    "<li>Booleans: True or False. Used for logic and Control Flow</li>\n",
    "<li>Dictionary: A series of key-value pairs. Useful for storing values with a specific key name</li>\n",
    "</ul>\n",
    "Each of these datatypes has built-in functions that make them easy to manipulate. If you think of something to do to one of them, chances are there is already a built in function for it. These functions are available through dot notation. \n",
    "\n",
    "We've already looked a bit at integers and floats so let's look at strings.\n",
    "\n",
    "#### Strings\n",
    "Let's start by creating a variable with your own name"
   ]
  },
  {
   "cell_type": "code",
   "execution_count": 13,
   "metadata": {
    "collapsed": true
   },
   "outputs": [],
   "source": [
    "my_name = 'chris'#fill in with your own name! By the way the # allows you to write comments that aren't interpreted by python"
   ]
  },
  {
   "cell_type": "markdown",
   "metadata": {},
   "source": [
    "Now that you should have your name saved we can start doing things to it with the string's built in functions. For example, say you want to capitalize your name if you wrote it all in lower case.\n"
   ]
  },
  {
   "cell_type": "code",
   "execution_count": null,
   "metadata": {
    "collapsed": false
   },
   "outputs": [],
   "source": [
    "my_name = my_name.capitalize()\n",
    "print(my_name)"
   ]
  },
  {
   "cell_type": "markdown",
   "metadata": {},
   "source": [
    "Now  you can see that the name has been capitalized. We can make it all uppercase or all lowercase."
   ]
  },
  {
   "cell_type": "code",
   "execution_count": null,
   "metadata": {
    "collapsed": false
   },
   "outputs": [],
   "source": [
    "my_name = my_name.upper()\n",
    "print(my_name)\n",
    "my_name = my_name.lower()\n",
    "print(my_name)\n",
    "#we can replace a letter with replace\n",
    "print(my_name.replace('i','1'))\n",
    "#or check if your name ends with a certain letter\n",
    "print(my_name.endswith('d'))"
   ]
  },
  {
   "cell_type": "markdown",
   "metadata": {},
   "source": [
    "Strings are <b> iterable</b> and can therefore be <b>indexed</b>. This is just a fancy way of saying that we can use indices to take certain chunks of the string. This is also true of lists and tuples. To do this you would use square brackets, [], along with an index which starts with 0 and goes until the number of elements in the string.\n",
    "For example, if I wanted the first letter in my name"
   ]
  },
  {
   "cell_type": "code",
   "execution_count": null,
   "metadata": {
    "collapsed": false
   },
   "outputs": [],
   "source": [
    "first_letter = my_name[0]\n",
    "print(first_letter)"
   ]
  },
  {
   "cell_type": "markdown",
   "metadata": {},
   "source": [
    "This indexing allows us to select elements from these datatypes. With this tool, it is a good time to move onto lists.\n",
    "### Lists\n",
    "Lists are arguably the most important datatype in scientific computing in python. Storing data in lists is easy and straightforward.\n",
    "Lists can contain multiple datatypes. They can be made up of strings, floats, integers, more lists, booleans, dictionaries, and almost every other datatype. Let's start by storing some numbers in a list to learn what we can do with these lists.\n"
   ]
  },
  {
   "cell_type": "code",
   "execution_count": null,
   "metadata": {
    "collapsed": false
   },
   "outputs": [],
   "source": [
    "x= [0,4,3,2,16,12,14,5]\n",
    "print(x)"
   ]
  },
  {
   "cell_type": "markdown",
   "metadata": {},
   "source": [
    "We can perform a variety of useful operations with inherent list functions. We can add things to the list with the append function. We can insert things into the list at a given index with the insert function. Try "
   ]
  },
  {
   "cell_type": "code",
   "execution_count": null,
   "metadata": {
    "collapsed": true
   },
   "outputs": [],
   "source": [
    "x.append(     )#add a number inside the parentheses\n",
    "print(x)\n",
    "x.insert(  ,   )#add an index, and a number, separated by a comma. The index and the number are both arguments of insert\n",
    "print(x)"
   ]
  },
  {
   "cell_type": "markdown",
   "metadata": {},
   "source": [
    "You should notice that here we are not setting our list x equal to the result of the function being performed on the list. That is because when the function runs it is inherently changing the list rather than returning anything. As mentioned earlier, we can use indexing to obtain elements from these lists. There are some useful tools for this. Test out the ones below and try to figure out what each does. Remember, in computer science, things start at 0!"
   ]
  },
  {
   "cell_type": "code",
   "execution_count": null,
   "metadata": {
    "collapsed": true
   },
   "outputs": [],
   "source": [
    "print(x[-2])"
   ]
  },
  {
   "cell_type": "code",
   "execution_count": null,
   "metadata": {
    "collapsed": false
   },
   "outputs": [],
   "source": [
    "print(x[:4])"
   ]
  },
  {
   "cell_type": "code",
   "execution_count": null,
   "metadata": {
    "collapsed": true
   },
   "outputs": [],
   "source": [
    "print(x[4:])"
   ]
  },
  {
   "cell_type": "code",
   "execution_count": null,
   "metadata": {
    "collapsed": false
   },
   "outputs": [],
   "source": [
    "print(x[3:6])"
   ]
  },
  {
   "cell_type": "code",
   "execution_count": null,
   "metadata": {
    "collapsed": false
   },
   "outputs": [],
   "source": [
    "print(x[::-1])"
   ]
  },
  {
   "cell_type": "code",
   "execution_count": null,
   "metadata": {
    "collapsed": true
   },
   "outputs": [],
   "source": [
    "print(x[::2])"
   ]
  },
  {
   "cell_type": "markdown",
   "metadata": {},
   "source": [
    "After careful inspection, one could deduce a pattern to these tools. Since time is limited I am going to tell you exactly what is happening. \n",
    "Anytime we index a list with the square brackets, there are several tools we can use.\n",
    "Essentially, any slice of the list will be\n",
    "slice= lst[start_index : end_index: stepsize]\n",
    "where start_index is the first number you want to be included in your slice. If it is not specified, it starts at 0, like in the second example above. If it is indeed specified, like in the third example to be 3, it will start at that index. The options here are all separated by colons. The second option is the end index. When you specify this index, it will get all the elements UP TO but not including the end_index. Finally, the step_size option allows you to select only every nth number, assuming you have a step size of n. \n",
    "\n",
    "There is one very important function to mention right now that automatically generates a list. This is the range function. The range function generates a list of numbers from a start point to an end point given a certain step size. Like with list indexing, if the step size is not specified, it is assumed to be one."
   ]
  },
  {
   "cell_type": "code",
   "execution_count": null,
   "metadata": {
    "collapsed": false
   },
   "outputs": [],
   "source": [
    "x= range(0,10)\n",
    "for i in x: \n",
    "    print(i)\n",
    "#if you are starting at 0, you can just input your endpoint as the range function automatically assumes you start at 0\n",
    "\n"
   ]
  },
  {
   "cell_type": "code",
   "execution_count": null,
   "metadata": {
    "collapsed": true
   },
   "outputs": [],
   "source": [
    "x= range(10)\n",
    "for i in x:\n",
    "    print(i)"
   ]
  },
  {
   "cell_type": "code",
   "execution_count": null,
   "metadata": {
    "collapsed": false
   },
   "outputs": [],
   "source": [
    "#now if we want to go by a step of 2\n",
    "x = range(0,10,2)\n",
    "for i in x:\n",
    "    print(i)\n",
    "#thus when you use a range function, it will be of the form\n",
    "#x = range(start=0,end, step=1)\n",
    "# where the first and third arguments are automatically set to a certainvalue. These are called keyword arguments and are\n",
    "#very handy in writing functions of your own, though you will likely not need them here.\n"
   ]
  },
  {
   "cell_type": "markdown",
   "metadata": {},
   "source": [
    "#### Importing libraries and writing your own functions\n",
    "While python itself comes with a suite of wonderful capabilities, its true power comes in the sheer number of available packages we can import. Two of the most important packages we will be using are the numpy and matplotlib.pyplot packages. At the beginning of any file you write on your own that requires any sort of plotting of numerical function (cosine, sine, gaussians, etc.), you should include the two lines of code."
   ]
  },
  {
   "cell_type": "code",
   "execution_count": 33,
   "metadata": {
    "collapsed": true
   },
   "outputs": [],
   "source": [
    "import numpy as np\n",
    "import matplotlib.pyplot as plt"
   ]
  },
  {
   "cell_type": "markdown",
   "metadata": {},
   "source": [
    "In addition to the multitude of functions available, it is useful to be able to write your own functions for special scenarios that you may not be able to find an exact solution to online.\n",
    "In the first exercise, you will be required to write a function that finds the roots of a quadratic polynomial. Essentially you will just be using the quadratic formula. The syntax for writing a function is as follows:\n"
   ]
  },
  {
   "cell_type": "code",
   "execution_count": null,
   "metadata": {
    "collapsed": false
   },
   "outputs": [],
   "source": [
    "def quadform(a,b,c):\n",
    "    x0 = 0#do some math\n",
    "    x1 = 0#some more math\n",
    "    return [x0,x1] #you return a list containing the two numbers\n"
   ]
  },
  {
   "cell_type": "markdown",
   "metadata": {},
   "source": [
    "In most computer languages, the indentation is purely aesthetic. In python, it <b>is</b> the syntax. Blocks inside functions, if statements, elif statements, else statements, for loops, and while loops, need to be indented so that python knows that it is part of a certain block of code. To get information from functions you set a variable equal to the output of the function given some arguments. This looks something like"
   ]
  },
  {
   "cell_type": "code",
   "execution_count": null,
   "metadata": {
    "collapsed": true
   },
   "outputs": [],
   "source": [
    "quadroots = quadform(1,-4,4) #this will not work until we have defined our function properly\n",
    "#We know that the function returns a list. our variable quadroots should then be a list\n",
    "#How would we get the first root or the second root from this list ? (hint: indexing!)"
   ]
  },
  {
   "cell_type": "markdown",
   "metadata": {},
   "source": [
    "### Numpy Arrays\n",
    "Though lists are quite useful, numpy arrays are quite a bit more powerful for working with numpy functions and for doing math on them at large. They are very similar to lists in that they are indexed the same way but they do have different functionality.\n",
    "Let's look at the same list from before but now as a numpy array"
   ]
  },
  {
   "cell_type": "code",
   "execution_count": 40,
   "metadata": {
    "collapsed": true
   },
   "outputs": [],
   "source": [
    "x_arr= np.array ([0,4,3,2,16,12,14,5])\n",
    "x_list = [0,4,3,2,16,12,14,5]"
   ]
  },
  {
   "cell_type": "markdown",
   "metadata": {},
   "source": [
    "You might think so what?"
   ]
  },
  {
   "cell_type": "code",
   "execution_count": null,
   "metadata": {
    "collapsed": false
   },
   "outputs": [],
   "source": [
    "x_arr = x_arr*3 \n",
    "print(x_arr)\n",
    "#everything gets multipled by three, right? Nifty, huh? Now let's see what happens when we try to do it with a list"
   ]
  },
  {
   "cell_type": "code",
   "execution_count": null,
   "metadata": {
    "collapsed": true
   },
   "outputs": [],
   "source": [
    "x_list = x_list *3 \n",
    "print(x_list) \n",
    "# what happened?!?\n",
    "\n",
    "#if you are interested in how one would do this with a list, \n",
    "#it requires use of the map function and can get more confusing"
   ]
  },
  {
   "cell_type": "markdown",
   "metadata": {},
   "source": [
    "With these numpy arrays, we can perform calculations at large with relative ease and speed. Other useful numpy functions for generating arrays are np.arange (similar to the range function), np.zeros, and np.ones. The latter two generate arrays entirely of zeros and ones, respectively, given a certain shape/size."
   ]
  },
  {
   "cell_type": "markdown",
   "metadata": {},
   "source": [
    "### Exercise 1: Quadratic Formula\n",
    "The quadratic formula is so tedious to type into our calculators. It would be much nicer if we could just input our coefficients and get the roots. Here it is for a quick reminder\n",
    "$$x = \\frac{-b \\pm \\sqrt{b^2-4ac} }{2a} $$\n",
    "Given these coefficients a,b, and c, we can create a function which determines the roots and returns them to us. We start again with the syntax that we had earlier. Fill in the blanks and you should have a working quadratic formula calculator! For ease, there is a square root function in numpy, to use this, the syntax is np.sqrt(number).\n"
   ]
  },
  {
   "cell_type": "code",
   "execution_count": null,
   "metadata": {
    "collapsed": true
   },
   "outputs": [],
   "source": [
    "def quadform(a,b,c):\n",
    "    x0 = 0#do some math\n",
    "    x1 = 0#some more math\n",
    "    return [x0,x1] #you return a list containing the two numbers\n"
   ]
  },
  {
   "cell_type": "markdown",
   "metadata": {},
   "source": [
    "### Exercise 2: Practice Plotting\n",
    "Let's get familiar with matplotlib.pyplot and some numpy arrays. We'll generate an array of x values between -10 and 10. With the same coefficients form the previous exercise, generate a quadratic curve.\n",
    "After that, you should use your quadratic formula calculator to get the values for the roots. Then plot a vertical line at these points. Follow the steps below."
   ]
  },
  {
   "cell_type": "code",
   "execution_count": null,
   "metadata": {
    "collapsed": true
   },
   "outputs": [],
   "source": [
    "x = np.arange(-10,11) #because the endpoint is exclusive we go one above to get from -10 to 10.\n",
    "y = ??? # this should be of the form ax^2 + bx + c, where x is your x array and a,b,c are your coefficients\n",
    "plt.plot(x,y,'ro') #the r makes it red and the o makes them individual dots. \n",
    "plt.xlabel('x') #this puts a label on the x axis, feel free to replace with your own text\n",
    "plt.ylabel('y') #ditto for the y axis\n",
    "roots = quadform(a,b,c) # replace with your coefficients\n",
    "\n",
    "root1 = roots[ ] # index these properly to get your roots!\n",
    "root2 = roots[ ] \n",
    "\n",
    "plt.axvline(x=root1,ls=':')\n",
    "plt.axvline(x=root2,ls=':')\n",
    "\n",
    "plt.show()"
   ]
  },
  {
   "cell_type": "markdown",
   "metadata": {},
   "source": [
    "### Conditionals and Loops\n",
    "Computers are nice because they can perform a bunch of calculations in a really short amount of time. With what we have now though, we aren't much better off than if we had just stuck to a scientific calculator. With conditionals and loops we can expand our capabilities.\n",
    "#### Conditionals\n",
    "Conditionals boil down to the Boolean datatype. Every conditional statement is checking whether something is True or False. If we wanted to make our quadratic solver program slightly more robust, we would have it check if the discriminant is less than zero so that it would warn us if the answer was going to be imaginary rather than breaking as I'm sure many saw with their test input numbers. To do this we would do"
   ]
  },
  {
   "cell_type": "code",
   "execution_count": null,
   "metadata": {
    "collapsed": false
   },
   "outputs": [],
   "source": [
    "a =1\n",
    "b= 4\n",
    "c=5 #i've selected these as i know the roots are imaginary\n",
    "if (b**2-4*a*c) <0:\n",
    "    print('imaginary!')\n",
    "elif (b**2-4*a*c) == 0:\n",
    "    print('one root')\n",
    "else:\n",
    "    print('two roots')\n",
    "    "
   ]
  },
  {
   "cell_type": "markdown",
   "metadata": {},
   "source": [
    "I encourage you to alter the above input parameters (a,b,c) to see how the result changes based on your input. In the above example, I've made use of the three main tools in <b>control flow</b>. The <i> if</i> statement checks the truthness of the first condition, whether the discriminant is less than zero. The <i>elif</i> statement is an \"else if\" statement but it is the shortened syntax for python. This elif statement then allows us to check another condition, whether the discriminant is zero. If neither of these are satisfied, we use an <i>else</i> statement that runs if the preceding conditions are not met.\n",
    "There are several conditional operators we can use to check things in if and elif statements:\n",
    "<ul>\n",
    "    <li>A==B: used to check the equality of A and B</li>\n",
    "    <li>A!=B: used to check the inequality of A and B</li>\n",
    "    <li>A>B: used to check the if A is greater than B. The less than sign works the same</li>\n",
    "    <li>A in B: used to check if an element A is in some list, numpy array, or tuple B</li>\n",
    "    <li>A >= B: used to check if A is greater than or equal to B. Similar for less than or equal.</li>\n",
    "</ul>\n",
    "Essentially, all conditionals you might use will be variants or combinations of the above conditionals. We can use \"and\" and \"or\" for further capabilities. These are employed in their logical form. This means that if an or is used, if any of the conditionals is true it passes. When an and is used, all elements have to be True for it to pass."
   ]
  },
  {
   "cell_type": "markdown",
   "metadata": {},
   "source": [
    "#### Loops\n",
    "There are two main types of loops in python: for loops and while loops. For loops iterate over a set number of values, usually given by a range function or some other list/array. While loops iterate until a certain condition is no longer true. For loop syntax was shown above but I will show it again here:\n"
   ]
  },
  {
   "cell_type": "code",
   "execution_count": null,
   "metadata": {
    "collapsed": false
   },
   "outputs": [],
   "source": [
    "for i in range(10):\n",
    "    print(i)"
   ]
  },
  {
   "cell_type": "markdown",
   "metadata": {},
   "source": [
    "Above, we have i as our dummy counter variable. This for loop simply prints the numbers from 0 to 99. As we know from earlier, range(10) generates an iterable of 100 numbers from 0 to 99. For loops are very useful and nice for iterating over lists and arrays, which is often what you would want to do if you are working with data.\n",
    "\n",
    "While loops are slightly different. They can be used to perform the same tasks as for loops in a slightly more tedious way. In order to do the same thing with a while loop as in the for loop above, we would write"
   ]
  },
  {
   "cell_type": "code",
   "execution_count": null,
   "metadata": {
    "collapsed": true
   },
   "outputs": [],
   "source": [
    "i=0\n",
    "while i <100:\n",
    "    print(i)\n",
    "    i+=1"
   ]
  },
  {
   "cell_type": "markdown",
   "metadata": {},
   "source": [
    "where again, i is the dummy variable. Here we have to manually increment the variable i so that eventually the condition in the while loop is eventually false, else we will result in an infinite loop.\n",
    "While loops are generally useful for certain iterative solving methods such as Newton's Method, Euler's Method, etc. They are good for when you input an initial guess, the code inside the loop modifies that guess based on some algorithm, and eventually reaches an answer based on your condition.\n"
   ]
  },
  {
   "cell_type": "markdown",
   "metadata": {},
   "source": [
    "#### Exercise 3: Newton's Method\n",
    "We are going to attempt to use Newton's method to find the roots of some function. \n",
    "Let's start with the polynomial:\n",
    "$$ f(x) = x^3 -3x^2 -3x + 9$$\n",
    "The derivative of which is \n",
    "$$ \\frac{df(x)}{dx} = 3x^2 - 6x-3$$\n",
    "The way that Newton's method works is through iteratively solving the expression (f' is the derivative df/dx)\n",
    "$$ x_{n+1} = x_{n}- \\frac{f(x_{n})}{f'(x_{n})}$$"
   ]
  },
  {
   "cell_type": "markdown",
   "metadata": {},
   "source": [
    "We want the above three equations in python form so that we can use them to solve for the roots. I've provided these below."
   ]
  },
  {
   "cell_type": "code",
   "execution_count": 53,
   "metadata": {
    "collapsed": true
   },
   "outputs": [],
   "source": [
    "def f(x):\n",
    "    return x**3-3*x**2 -3*x+9\n",
    "def df(x):\n",
    "    return 3*x**2-6*x-3\n",
    "def dx(f,x):\n",
    "    return abs(0-f(x))"
   ]
  },
  {
   "cell_type": "markdown",
   "metadata": {},
   "source": [
    "In the above dx function, abs is the absolute value function. This dx function is $\\delta$, the difference between the current function and 0. We want $\\delta$ to be close to zero. We need an initial x position, $x0$, to get an initial $\\delta$.\n",
    "We do this below:"
   ]
  },
  {
   "cell_type": "code",
   "execution_count": 55,
   "metadata": {
    "collapsed": false
   },
   "outputs": [],
   "source": [
    "x0 = 0 # input your own guess! It should be something you think is close to the actual root.\n",
    "delta=dx(f,x0)\n",
    "while delta >=1.0e-7: #this is scientific notation here\n",
    "    #employ newton's method here! the x(n+1)=x(n) - f(x(n))/f'(x(n)), then redetermine delta with your new x0\n",
    "    #this solution only requires two lines!\n",
    "    break\n"
   ]
  },
  {
   "cell_type": "markdown",
   "metadata": {},
   "source": [
    "Since this is a cubic function, you should be able to determine each of the three roots given three different initial guesses. Keep trying until you get them all!"
   ]
  },
  {
   "cell_type": "markdown",
   "metadata": {},
   "source": [
    "### Functions and Recursion"
   ]
  },
  {
   "cell_type": "markdown",
   "metadata": {},
   "source": [
    "As we saw in the previous exercise, being able to define our own functions is useful and necessary for writing useful programs. It is good practice to functionalize programs so that we can repeat the same calculations with some variable parameter. Be careful though, as variables defined inside of function blocks are ONLY defined in the context of the function. We cannot access them outisde of the function's environment.\n",
    "Though the time saved may not be obvious, the benefits will become apparent as your functions and calculations get longer and more complicated. \n",
    "Let's look at an example that takes in two lists and combines them into one"
   ]
  },
  {
   "cell_type": "code",
   "execution_count": 61,
   "metadata": {
    "collapsed": false
   },
   "outputs": [
    {
     "name": "stdout",
     "output_type": "stream",
     "text": [
      "[3, 2, 1, 34, 5, 6, 5]\n"
     ]
    }
   ],
   "source": [
    "def concat(lst1,lst2):\n",
    "    testlist=[]\n",
    "\n",
    "    for i in lst1:\n",
    "        testlist+=[i]\n",
    "    for i in lst2:\n",
    "        testlist+=[i]\n",
    "    return testlist\n",
    "combolst = concat([3,2,1],[34,5,6,5])\n",
    "print(combolst)"
   ]
  },
  {
   "cell_type": "markdown",
   "metadata": {},
   "source": [
    "#### Exercise 4: Functions\n",
    "Now that you should have some sense of how a function works, define your own function which takes in your name and returns your name reversed. I've provided a basic skeleton below"
   ]
  },
  {
   "cell_type": "code",
   "execution_count": null,
   "metadata": {
    "collapsed": false
   },
   "outputs": [],
   "source": [
    "def reversename(name):\n",
    "    rev_name= '' # we set this up so we don't alter the original variable \n",
    "    for i in name[]: #use indexing to get a reversed list\n",
    "        rev_name = rev_name + #you can concatenate strings together by simply adding them. What would you add here?\n",
    "    return rev_name\n",
    "print(reversename('chris')) # replace with your own name\n"
   ]
  },
  {
   "cell_type": "markdown",
   "metadata": {},
   "source": [
    "#### Recursion\n",
    "Recursion is a useful technique for reducing complex problems into much simpler problems. There are several important recursive sequences in mathematics, including the Fibonacci sequence. Recursion involves having a function call itself until it reaches a certain condition. Factorials can be implemented recursively.\n",
    "This is done by:"
   ]
  },
  {
   "cell_type": "code",
   "execution_count": 65,
   "metadata": {
    "collapsed": true
   },
   "outputs": [],
   "source": [
    "def factorial(n):\n",
    "    if n==0:\n",
    "        return 1\n",
    "    else:\n",
    "        return n*factorial(n-1)\n"
   ]
  },
  {
   "cell_type": "markdown",
   "metadata": {},
   "source": [
    "As you'll notice, in the simple case it returns a single number, 1. In the more complicated case where n is not 0, it multiplies our number n by the result of the next lowered factorial at n-1. This continues until our condition n==0 is met. \n",
    "\n",
    "#### Exercise 5: Recursive functions\n",
    "Try to write a function which, for a given number, gives you the Fibonacci sum, defined as \n",
    "$$ fibonacci(n)= fibonacci(n-1) + fibonacci(n-2)$$\n",
    "where $fibonacci(0) = 0$ and $fibonacci(1)  = 1$\n",
    "Break it down into simpler problems.\n"
   ]
  },
  {
   "cell_type": "code",
   "execution_count": 66,
   "metadata": {
    "collapsed": true
   },
   "outputs": [],
   "source": [
    "def fibonacci(n):\n",
    "    #do stuff here\n",
    "    return fibsum"
   ]
  },
  {
   "cell_type": "markdown",
   "metadata": {},
   "source": [
    "#### Exercise 6: Recursive functions II\n",
    "In Exercise 4, you used for loops to reverse your own name. Do the same thing now using recursion. This will be conceptually difficult so try to think about it and talk with your neighbor!"
   ]
  },
  {
   "cell_type": "code",
   "execution_count": 67,
   "metadata": {
    "collapsed": true
   },
   "outputs": [],
   "source": [
    "def reversename2(name):\n",
    "    pass #replace with your code!\n"
   ]
  },
  {
   "cell_type": "markdown",
   "metadata": {},
   "source": [
    "### Curve Fitting\n",
    "Lastly, we are going to load in some data and try to fit some curve to it. We know how to write functions, use arrays, lists, and how to plot things (sort of ). To do this fit, we will be using the method of linear least squares to find a curve of best fit for a set of data. You do not have to know the intricacies of the method to use it. For a linear case, it reduces to the matrix equation:\n",
    "$$ \\begin{pmatrix}\n",
    "N & \\sum x_{i} \\\\\n",
    "\\sum x_{i} & \\sum x_{i}^2 \\\\\n",
    "\\end{pmatrix}\n",
    "\\begin{pmatrix}\n",
    "cfit \\\\\n",
    "mfit\\\\\n",
    "\\end{pmatrix}\n",
    "=\n",
    "\\begin{pmatrix}\n",
    "\\sum y_{i} \\\\\n",
    "\\sum x_{i} y_{i}\\\\\n",
    "\\end{pmatrix} $$\n",
    "\n",
    "where N is the number of elements, $x_{i}$ are the x values, $y_{i}$ are the y values, $cfit$ is the y-intercept, and $mfit$ is the slope."
   ]
  },
  {
   "cell_type": "code",
   "execution_count": 79,
   "metadata": {
    "collapsed": false
   },
   "outputs": [
    {
     "data": {
      "image/png": "[encoded data removed]",
      "text/plain": [
       "<matplotlib.figure.Figure at 0x7c6c2b4b00>"
      ]
     },
     "metadata": {},
     "output_type": "display_data"
    }
   ],
   "source": [
    "data = np.loadtxt('data.txt') #this is a useful thing to remember!\n",
    "data =np.transpose(data)\n",
    "x =data[0]\n",
    "y=data[1]\n",
    "plt.plot(x,y,'go',label='data')\n",
    "plt.legend(loc=2)\n",
    "plt.show()\n"
   ]
  },
  {
   "cell_type": "markdown",
   "metadata": {},
   "source": [
    "Above, we have loaded in some data. We transposed it to more easily index it. It looks like it is linear so it seems okay to approximate it with a linear fit. We can do this by setting up some matrices and solving the matrix equation above.\n"
   ]
  },
  {
   "cell_type": "code",
   "execution_count": 80,
   "metadata": {
    "collapsed": false
   },
   "outputs": [
    {
     "data": {
      "image/png": "[encoded data removed]",
      "text/plain": [
       "<matplotlib.figure.Figure at 0x7c6c35d550>"
      ]
     },
     "metadata": {},
     "output_type": "display_data"
    }
   ],
   "source": [
    "matrix_one = np.array([ [ len(x), np.sum(x)],[np.sum(x),np.sum(x**2)]])\n",
    "matrix_three = np.array([ [np.sum(y)],[np.sum(x*y)]])\n",
    "cfit, mfit=np.dot(np.linalg.inv(matrix_one), matrix_three)\n",
    "bestfit= cfit + x*mfit\n",
    "plt.plot(x, bestfit,'b',label='best fit')\n",
    "plt.plot(x,y,'go',label='data')\n",
    "plt.legend(loc=2)\n",
    "plt.show()\n"
   ]
  },
  {
   "cell_type": "markdown",
   "metadata": {},
   "source": [
    "Above we have shown our line of best fit against the data, and it seems like a fairly good fit. It appears that a linear model was an appropriate one to use in this scenario.\n"
   ]
  },
  {
   "cell_type": "markdown",
   "metadata": {},
   "source": [
    "####  Exercise 7: Fit a quadratic polynomial\n",
    "Now that you have a decent idea of how to plot things, use the np.polyfit function to try to fit higher order functions to the above data. "
   ]
  },
  {
   "cell_type": "markdown",
   "metadata": {},
   "source": [
    "## Congratulations, you have finished the introductory python bootcamp!"
   ]
  }
 ],
 "metadata": {
  "anaconda-cloud": {},
  "kernelspec": {
   "display_name": "Python [conda root]",
   "language": "python",
   "name": "conda-root-py"
  },
  "language_info": {
   "codemirror_mode": {
    "name": "ipython",
    "version": 3
   },
   "file_extension": ".py",
   "mimetype": "text/x-python",
   "name": "python",
   "nbconvert_exporter": "python",
   "pygments_lexer": "ipython3",
   "version": "3.5.2"
  }
 },
 "nbformat": 4,
 "nbformat_minor": 1
}
